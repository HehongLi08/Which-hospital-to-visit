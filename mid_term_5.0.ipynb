{
 "cells": [
  {
   "cell_type": "code",
   "execution_count": 1,
   "id": "091930d0",
   "metadata": {},
   "outputs": [],
   "source": [
    "import numpy as np\n",
    "import pandas as pd\n",
    "import seaborn as sns\n",
    "import statsmodels.api as sm\n",
    "import math\n",
    "import matplotlib.pyplot as plt \n",
    "%matplotlib inline\n",
    "\n",
    "import random as rand"
   ]
  },
  {
   "cell_type": "code",
   "execution_count": 2,
   "id": "6537b31f",
   "metadata": {
    "scrolled": false
   },
   "outputs": [
    {
     "name": "stderr",
     "output_type": "stream",
     "text": [
      "/Users/ruiren/opt/anaconda3/lib/python3.8/site-packages/IPython/core/interactiveshell.py:3165: DtypeWarning: Columns (11) have mixed types.Specify dtype option on import or set low_memory=False.\n",
      "  has_raised = await self.run_ast_nodes(code_ast.body, cell_name,\n"
     ]
    },
    {
     "data": {
      "text/plain": [
       "Index(['Id', 'Health_Service_Area', 'Hospital_County',\n",
       "       'Operating_Certificate_Number', 'Facility_ID', 'Facility_Name',\n",
       "       'Age_Group', 'Zip_Code_3_digits', 'Gender', 'Race', 'Ethnicity',\n",
       "       'Length_of_Stay', 'Type_of_Admission', 'Patient_Disposition',\n",
       "       'Discharge_Year', 'CCS_Diagnosis_Code', 'CCS_Diagnosis_Description',\n",
       "       'CCS_Procedure_Code', 'CCS_Procedure_Description', 'APR_DRG_Code',\n",
       "       'APR_DRG_Description', 'APR_MDC_Code', 'APR_MDC Description',\n",
       "       'APR_Severity_of_Illness_Code', 'APR_Severity_of_Illness_Description',\n",
       "       'APR_Risk_of_Mortality', 'APR_Medical_Surgical_Description',\n",
       "       'Payment_Typology_1', 'Payment_Typology_2', 'Payment_Typology_3',\n",
       "       'Birth_Weight', 'Abortion_Edit_Indicator',\n",
       "       'Emergency_Department_Indicator', 'Total_Charges', 'Total_Costs'],\n",
       "      dtype='object')"
      ]
     },
     "execution_count": 2,
     "metadata": {},
     "output_type": "execute_result"
    }
   ],
   "source": [
    "# df = pd.read_csv(r'D:/cornell/Fall_21/ORIE 5741 big messy data/Project/SPARCS.csv')\n",
    "df_original = pd.read_csv('SPARCS.csv')\n",
    "\n",
    "\n",
    "feature_names = df_original.columns\n",
    "feature_names\n",
    "# for i in range(35):\n",
    "#     print(str(i), \"\\t\", str(feature_names[i]),\"\\t\\t\\t\", str(type(df.iloc[0,i])))"
   ]
  },
  {
   "cell_type": "code",
   "execution_count": 3,
   "id": "9fdcff8b",
   "metadata": {},
   "outputs": [],
   "source": [
    "np.random.seed(35)\n",
    "df = df_original.sample(frac = 1)"
   ]
  },
  {
   "cell_type": "code",
   "execution_count": 4,
   "id": "c7f12525",
   "metadata": {},
   "outputs": [
    {
     "data": {
      "text/plain": [
       "2544543"
      ]
     },
     "execution_count": 4,
     "metadata": {},
     "output_type": "execute_result"
    }
   ],
   "source": [
    "df_original.shape[0]"
   ]
  },
  {
   "cell_type": "markdown",
   "id": "f0fc410d",
   "metadata": {},
   "source": [
    "**Dataset in details**<br>\n",
    "Our dataset has 2544543 rows and 35 columns, including the description of patients' age, race, location, payment methods and so on."
   ]
  },
  {
   "cell_type": "code",
   "execution_count": 5,
   "id": "e634d096",
   "metadata": {},
   "outputs": [],
   "source": [
    "chosen_labels = [\n",
    "    'Health_Service_Area',\n",
    "    'Gender',\n",
    "    'Age_Group',\n",
    "    'Race',\n",
    "    'CCS_Diagnosis_Description',\n",
    "    'APR_Risk_of_Mortality',\n",
    "    'APR_Severity_of_Illness_Description',\n",
    "    'Zip_Code_3_digits',\n",
    "    'Length_of_Stay'\n",
    "]\n",
    "payment_method = [\n",
    "    'Payment_Typology_1',\n",
    "    'Payment_Typology_2',\n",
    "    'Payment_Typology_3'\n",
    "]"
   ]
  },
  {
   "cell_type": "code",
   "execution_count": 6,
   "id": "5ebc6a4f",
   "metadata": {},
   "outputs": [],
   "source": [
    "for chosen_label in chosen_labels:\n",
    "    df = df[~df[chosen_label].isna()]"
   ]
  },
  {
   "cell_type": "code",
   "execution_count": 7,
   "id": "9b880406",
   "metadata": {},
   "outputs": [
    {
     "data": {
      "text/plain": [
       "(2505787, 35)"
      ]
     },
     "execution_count": 7,
     "metadata": {},
     "output_type": "execute_result"
    }
   ],
   "source": [
    "df.shape"
   ]
  },
  {
   "cell_type": "code",
   "execution_count": 8,
   "id": "e85b7c5e",
   "metadata": {},
   "outputs": [],
   "source": [
    "df = df[~pd.isnull(df[payment_method]).all(axis=1)]"
   ]
  },
  {
   "cell_type": "code",
   "execution_count": 9,
   "id": "cfefa33b",
   "metadata": {},
   "outputs": [
    {
     "data": {
      "text/plain": [
       "(2505787, 35)"
      ]
     },
     "execution_count": 9,
     "metadata": {},
     "output_type": "execute_result"
    }
   ],
   "source": [
    "df.shape"
   ]
  },
  {
   "cell_type": "markdown",
   "id": "a51cdb0b",
   "metadata": {},
   "source": [
    "**Data-Preprocessing**<br>\n",
    "1. Clean up the null data<br>\n",
    "2. Data transformation<br>\n",
    "3. Create new features"
   ]
  },
  {
   "cell_type": "markdown",
   "id": "5a62b716",
   "metadata": {},
   "source": [
    "***Drop several columns (like the duplicated columns with same information)***may have some problems"
   ]
  },
  {
   "cell_type": "code",
   "execution_count": 10,
   "id": "d5e5bdc8",
   "metadata": {},
   "outputs": [],
   "source": [
    "#Drop irrelevant data\n",
    "duplicated_labels = [\n",
    "    #'CCS_Diagnosis_Code',\n",
    "    #'CCS_Procedure_Code',\n",
    "    #'APR_DRG_Code',\n",
    "    #'APR_MDC_Code',\n",
    "    #'APR_Severity_of_Illness_Code',\n",
    "    'Facility_ID',\n",
    "    'Birth_Weight'\n",
    "]"
   ]
  },
  {
   "cell_type": "code",
   "execution_count": 11,
   "id": "679acb6b",
   "metadata": {
    "scrolled": true
   },
   "outputs": [],
   "source": [
    "df = df.drop(duplicated_labels, axis=1)"
   ]
  },
  {
   "cell_type": "code",
   "execution_count": 12,
   "id": "20c4d324",
   "metadata": {},
   "outputs": [
    {
     "data": {
      "text/plain": [
       "(2505787, 33)"
      ]
     },
     "execution_count": 12,
     "metadata": {},
     "output_type": "execute_result"
    }
   ],
   "source": [
    "df.shape"
   ]
  },
  {
   "cell_type": "markdown",
   "id": "2ce00f90",
   "metadata": {},
   "source": [
    "Row-Drop null data (already have)\n",
    "Abortion Record == Y dropped"
   ]
  },
  {
   "cell_type": "code",
   "execution_count": 13,
   "id": "29262815",
   "metadata": {},
   "outputs": [],
   "source": [
    "df = df[~df.Abortion_Edit_Indicator.eq(\"Y\")]\n"
   ]
  },
  {
   "cell_type": "markdown",
   "id": "d66bd4be",
   "metadata": {},
   "source": [
    "Row-Drop meanless data\n",
    "OOS “Out of State” in the zip code should be drop out (only considering NY)<br>"
   ]
  },
  {
   "cell_type": "code",
   "execution_count": 14,
   "id": "8956a0e1",
   "metadata": {},
   "outputs": [
    {
     "data": {
      "text/plain": [
       "(2434522, 33)"
      ]
     },
     "execution_count": 14,
     "metadata": {},
     "output_type": "execute_result"
    }
   ],
   "source": [
    "df = df.loc[df[\"Zip_Code_3_digits\"] != \"OOS\"]\n",
    "df.shape"
   ]
  },
  {
   "cell_type": "markdown",
   "id": "b961965b",
   "metadata": {},
   "source": [
    "**Summary Statistics**<br>"
   ]
  },
  {
   "cell_type": "code",
   "execution_count": 15,
   "id": "8a6ca1e7",
   "metadata": {},
   "outputs": [],
   "source": [
    "cost=df['Total_Costs']\n",
    "cost=df.Total_Costs"
   ]
  },
  {
   "cell_type": "code",
   "execution_count": 16,
   "id": "28e016d6",
   "metadata": {},
   "outputs": [
    {
     "data": {
      "text/plain": [
       "count    2.434522e+06\n",
       "mean     1.187579e+04\n",
       "std      3.194961e+04\n",
       "min      1.000000e-01\n",
       "25%      3.574303e+03\n",
       "50%      6.592105e+03\n",
       "75%      1.260653e+04\n",
       "max      3.231139e+07\n",
       "Name: Total_Costs, dtype: float64"
      ]
     },
     "execution_count": 16,
     "metadata": {},
     "output_type": "execute_result"
    }
   ],
   "source": [
    "cost.describe()"
   ]
  },
  {
   "cell_type": "code",
   "execution_count": 17,
   "id": "2ad52e39",
   "metadata": {},
   "outputs": [
    {
     "data": {
      "text/plain": [
       "297756     False\n",
       "82645      False\n",
       "534928     False\n",
       "1639749    False\n",
       "452272     False\n",
       "           ...  \n",
       "347071     False\n",
       "56300      False\n",
       "179233     False\n",
       "2475279    False\n",
       "202441     False\n",
       "Name: Total_Costs, Length: 2434522, dtype: bool"
      ]
     },
     "execution_count": 17,
     "metadata": {},
     "output_type": "execute_result"
    }
   ],
   "source": [
    "pd.isna(cost)"
   ]
  },
  {
   "cell_type": "code",
   "execution_count": 18,
   "id": "f1cfa58c",
   "metadata": {},
   "outputs": [
    {
     "data": {
      "text/plain": [
       "<AxesSubplot:>"
      ]
     },
     "execution_count": 18,
     "metadata": {},
     "output_type": "execute_result"
    },
    {
     "data": {
      "image/png": "[encoded data removed]",
      "text/plain": [
       "<Figure size 432x288 with 1 Axes>"
      ]
     },
     "metadata": {
      "needs_background": "light"
     },
     "output_type": "display_data"
    }
   ],
   "source": [
    "cost.hist()"
   ]
  },
  {
   "cell_type": "code",
   "execution_count": 19,
   "id": "649d35c6",
   "metadata": {
    "scrolled": true
   },
   "outputs": [
    {
     "data": {
      "text/plain": [
       "<AxesSubplot:>"
      ]
     },
     "execution_count": 19,
     "metadata": {},
     "output_type": "execute_result"
    },
    {
     "data": {
      "image/png": "[encoded data removed]",
      "text/plain": [
       "<Figure size 432x288 with 1 Axes>"
      ]
     },
     "metadata": {
      "needs_background": "light"
     },
     "output_type": "display_data"
    }
   ],
   "source": [
    "cost.hist(bins=200)"
   ]
  },
  {
   "cell_type": "code",
   "execution_count": 20,
   "id": "776a1970",
   "metadata": {},
   "outputs": [
    {
     "data": {
      "text/plain": [
       "297756     True\n",
       "82645      True\n",
       "534928     True\n",
       "1639749    True\n",
       "452272     True\n",
       "           ... \n",
       "347071     True\n",
       "56300      True\n",
       "179233     True\n",
       "2475279    True\n",
       "202441     True\n",
       "Name: Total_Costs, Length: 2434522, dtype: bool"
      ]
     },
     "execution_count": 20,
     "metadata": {},
     "output_type": "execute_result"
    }
   ],
   "source": [
    "lower_cost = (cost < 99999)\n",
    "lower_cost"
   ]
  },
  {
   "cell_type": "code",
   "execution_count": 21,
   "id": "b63c9c2d",
   "metadata": {},
   "outputs": [],
   "source": [
    "cost99=df.where(lower_cost)"
   ]
  },
  {
   "cell_type": "code",
   "execution_count": 22,
   "id": "9e2e93ed",
   "metadata": {
    "scrolled": true
   },
   "outputs": [
    {
     "data": {
      "text/html": [
       "<div>\n",
       "<style scoped>\n",
       "    .dataframe tbody tr th:only-of-type {\n",
       "        vertical-align: middle;\n",
       "    }\n",
       "\n",
       "    .dataframe tbody tr th {\n",
       "        vertical-align: top;\n",
       "    }\n",
       "\n",
       "    .dataframe thead th {\n",
       "        text-align: right;\n",
       "    }\n",
       "</style>\n",
       "<table border=\"1\" class=\"dataframe\">\n",
       "  <thead>\n",
       "    <tr style=\"text-align: right;\">\n",
       "      <th></th>\n",
       "      <th>Id</th>\n",
       "      <th>Operating_Certificate_Number</th>\n",
       "      <th>Discharge_Year</th>\n",
       "      <th>CCS_Diagnosis_Code</th>\n",
       "      <th>CCS_Procedure_Code</th>\n",
       "      <th>APR_DRG_Code</th>\n",
       "      <th>APR_MDC_Code</th>\n",
       "      <th>APR_Severity_of_Illness_Code</th>\n",
       "      <th>Total_Charges</th>\n",
       "      <th>Total_Costs</th>\n",
       "    </tr>\n",
       "  </thead>\n",
       "  <tbody>\n",
       "    <tr>\n",
       "      <th>count</th>\n",
       "      <td>2.415281e+06</td>\n",
       "      <td>2.415281e+06</td>\n",
       "      <td>2415281.0</td>\n",
       "      <td>2.415281e+06</td>\n",
       "      <td>2.415281e+06</td>\n",
       "      <td>2.415281e+06</td>\n",
       "      <td>2.415281e+06</td>\n",
       "      <td>2.415281e+06</td>\n",
       "      <td>2.415281e+06</td>\n",
       "      <td>2.415281e+06</td>\n",
       "    </tr>\n",
       "    <tr>\n",
       "      <th>mean</th>\n",
       "      <td>1.267139e+06</td>\n",
       "      <td>4.987811e+06</td>\n",
       "      <td>2012.0</td>\n",
       "      <td>1.925981e+02</td>\n",
       "      <td>1.145786e+02</td>\n",
       "      <td>4.095756e+02</td>\n",
       "      <td>1.020500e+01</td>\n",
       "      <td>1.987635e+00</td>\n",
       "      <td>2.956794e+04</td>\n",
       "      <td>1.047646e+04</td>\n",
       "    </tr>\n",
       "    <tr>\n",
       "      <th>std</th>\n",
       "      <td>7.400038e+05</td>\n",
       "      <td>2.252027e+06</td>\n",
       "      <td>0.0</td>\n",
       "      <td>1.574750e+02</td>\n",
       "      <td>8.801578e+01</td>\n",
       "      <td>2.386172e+02</td>\n",
       "      <td>5.879949e+00</td>\n",
       "      <td>9.031890e-01</td>\n",
       "      <td>3.777617e+04</td>\n",
       "      <td>1.214835e+04</td>\n",
       "    </tr>\n",
       "    <tr>\n",
       "      <th>min</th>\n",
       "      <td>1.000000e+00</td>\n",
       "      <td>1.010000e+05</td>\n",
       "      <td>2012.0</td>\n",
       "      <td>1.000000e+00</td>\n",
       "      <td>0.000000e+00</td>\n",
       "      <td>1.000000e+00</td>\n",
       "      <td>1.000000e+00</td>\n",
       "      <td>1.000000e+00</td>\n",
       "      <td>3.100000e-01</td>\n",
       "      <td>1.000000e-01</td>\n",
       "    </tr>\n",
       "    <tr>\n",
       "      <th>25%</th>\n",
       "      <td>6.241960e+05</td>\n",
       "      <td>2.951001e+06</td>\n",
       "      <td>2012.0</td>\n",
       "      <td>1.060000e+02</td>\n",
       "      <td>0.000000e+00</td>\n",
       "      <td>1.980000e+02</td>\n",
       "      <td>5.000000e+00</td>\n",
       "      <td>1.000000e+00</td>\n",
       "      <td>8.796450e+03</td>\n",
       "      <td>3.553150e+03</td>\n",
       "    </tr>\n",
       "    <tr>\n",
       "      <th>50%</th>\n",
       "      <td>1.255707e+06</td>\n",
       "      <td>5.904000e+06</td>\n",
       "      <td>2012.0</td>\n",
       "      <td>1.590000e+02</td>\n",
       "      <td>1.340000e+02</td>\n",
       "      <td>3.810000e+02</td>\n",
       "      <td>9.000000e+00</td>\n",
       "      <td>2.000000e+00</td>\n",
       "      <td>1.746858e+04</td>\n",
       "      <td>6.532590e+03</td>\n",
       "    </tr>\n",
       "    <tr>\n",
       "      <th>75%</th>\n",
       "      <td>1.923137e+06</td>\n",
       "      <td>7.002002e+06</td>\n",
       "      <td>2012.0</td>\n",
       "      <td>2.180000e+02</td>\n",
       "      <td>2.140000e+02</td>\n",
       "      <td>6.400000e+02</td>\n",
       "      <td>1.500000e+01</td>\n",
       "      <td>3.000000e+00</td>\n",
       "      <td>3.465700e+04</td>\n",
       "      <td>1.237041e+04</td>\n",
       "    </tr>\n",
       "    <tr>\n",
       "      <th>max</th>\n",
       "      <td>2.544543e+06</td>\n",
       "      <td>7.004010e+06</td>\n",
       "      <td>2012.0</td>\n",
       "      <td>6.700000e+02</td>\n",
       "      <td>2.310000e+02</td>\n",
       "      <td>9.520000e+02</td>\n",
       "      <td>2.500000e+01</td>\n",
       "      <td>4.000000e+00</td>\n",
       "      <td>1.071769e+06</td>\n",
       "      <td>9.999701e+04</td>\n",
       "    </tr>\n",
       "  </tbody>\n",
       "</table>\n",
       "</div>"
      ],
      "text/plain": [
       "                 Id  Operating_Certificate_Number  Discharge_Year  \\\n",
       "count  2.415281e+06                  2.415281e+06       2415281.0   \n",
       "mean   1.267139e+06                  4.987811e+06          2012.0   \n",
       "std    7.400038e+05                  2.252027e+06             0.0   \n",
       "min    1.000000e+00                  1.010000e+05          2012.0   \n",
       "25%    6.241960e+05                  2.951001e+06          2012.0   \n",
       "50%    1.255707e+06                  5.904000e+06          2012.0   \n",
       "75%    1.923137e+06                  7.002002e+06          2012.0   \n",
       "max    2.544543e+06                  7.004010e+06          2012.0   \n",
       "\n",
       "       CCS_Diagnosis_Code  CCS_Procedure_Code  APR_DRG_Code  APR_MDC_Code  \\\n",
       "count        2.415281e+06        2.415281e+06  2.415281e+06  2.415281e+06   \n",
       "mean         1.925981e+02        1.145786e+02  4.095756e+02  1.020500e+01   \n",
       "std          1.574750e+02        8.801578e+01  2.386172e+02  5.879949e+00   \n",
       "min          1.000000e+00        0.000000e+00  1.000000e+00  1.000000e+00   \n",
       "25%          1.060000e+02        0.000000e+00  1.980000e+02  5.000000e+00   \n",
       "50%          1.590000e+02        1.340000e+02  3.810000e+02  9.000000e+00   \n",
       "75%          2.180000e+02        2.140000e+02  6.400000e+02  1.500000e+01   \n",
       "max          6.700000e+02        2.310000e+02  9.520000e+02  2.500000e+01   \n",
       "\n",
       "       APR_Severity_of_Illness_Code  Total_Charges   Total_Costs  \n",
       "count                  2.415281e+06   2.415281e+06  2.415281e+06  \n",
       "mean                   1.987635e+00   2.956794e+04  1.047646e+04  \n",
       "std                    9.031890e-01   3.777617e+04  1.214835e+04  \n",
       "min                    1.000000e+00   3.100000e-01  1.000000e-01  \n",
       "25%                    1.000000e+00   8.796450e+03  3.553150e+03  \n",
       "50%                    2.000000e+00   1.746858e+04  6.532590e+03  \n",
       "75%                    3.000000e+00   3.465700e+04  1.237041e+04  \n",
       "max                    4.000000e+00   1.071769e+06  9.999701e+04  "
      ]
     },
     "execution_count": 22,
     "metadata": {},
     "output_type": "execute_result"
    }
   ],
   "source": [
    "cost99.describe()"
   ]
  },
  {
   "cell_type": "markdown",
   "id": "1471e190",
   "metadata": {},
   "source": [
    "Plot the histogram for all of the cost values"
   ]
  },
  {
   "cell_type": "code",
   "execution_count": 23,
   "id": "86450f8d",
   "metadata": {
    "scrolled": true
   },
   "outputs": [
    {
     "data": {
      "text/plain": [
       "<AxesSubplot:>"
      ]
     },
     "execution_count": 23,
     "metadata": {},
     "output_type": "execute_result"
    },
    {
     "data": {
      "image/png": "[encoded data removed]",
      "text/plain": [
       "<Figure size 432x288 with 1 Axes>"
      ]
     },
     "metadata": {
      "needs_background": "light"
     },
     "output_type": "display_data"
    }
   ],
   "source": [
    "cost99.Total_Costs.hist(bins=100)"
   ]
  },
  {
   "cell_type": "code",
   "execution_count": 24,
   "id": "b92a94cf",
   "metadata": {},
   "outputs": [
    {
     "data": {
      "text/plain": [
       "<seaborn.axisgrid.FacetGrid at 0x7ff619cb5fd0>"
      ]
     },
     "execution_count": 24,
     "metadata": {},
     "output_type": "execute_result"
    },
    {
     "data": {
      "image/png": "[encoded data removed]",
      "text/plain": [
       "<Figure size 360x360 with 1 Axes>"
      ]
     },
     "metadata": {
      "needs_background": "light"
     },
     "output_type": "display_data"
    }
   ],
   "source": [
    "sns.displot(cost99.Total_Costs, kde=True)"
   ]
  },
  {
   "cell_type": "code",
   "execution_count": 25,
   "id": "e9ae437f",
   "metadata": {},
   "outputs": [],
   "source": [
    "cost99[\"Total_Costs+1\"] = cost99.Total_Costs + 1"
   ]
  },
  {
   "cell_type": "markdown",
   "id": "809a002e",
   "metadata": {},
   "source": [
    "- Analyze the cost for patients in different genders"
   ]
  },
  {
   "cell_type": "code",
   "execution_count": 26,
   "id": "bd67fa87",
   "metadata": {},
   "outputs": [
    {
     "data": {
      "text/plain": [
       "array([[<AxesSubplot:title={'center':'F'}>,\n",
       "        <AxesSubplot:title={'center':'M'}>],\n",
       "       [<AxesSubplot:title={'center':'U'}>, <AxesSubplot:>]], dtype=object)"
      ]
     },
     "execution_count": 26,
     "metadata": {},
     "output_type": "execute_result"
    },
    {
     "data": {
      "image/png": "[encoded data removed]",
      "text/plain": [
       "<Figure size 432x288 with 4 Axes>"
      ]
     },
     "metadata": {
      "needs_background": "light"
     },
     "output_type": "display_data"
    }
   ],
   "source": [
    "cost99[\"Total_Costs\"].hist(by=cost99[\"Gender\"], bins=100)"
   ]
  },
  {
   "cell_type": "code",
   "execution_count": 27,
   "id": "65349dda",
   "metadata": {
    "scrolled": false
   },
   "outputs": [
    {
     "data": {
      "text/plain": [
       "<AxesSubplot:xlabel='Total_Costs+1', ylabel='Count'>"
      ]
     },
     "execution_count": 27,
     "metadata": {},
     "output_type": "execute_result"
    },
    {
     "data": {
      "image/png": "[encoded data removed]",
      "text/plain": [
       "<Figure size 432x288 with 1 Axes>"
      ]
     },
     "metadata": {
      "needs_background": "light"
     },
     "output_type": "display_data"
    }
   ],
   "source": [
    "sns.histplot(\n",
    "    cost99,\n",
    "    x=\"Total_Costs+1\", hue=\"Gender\",\n",
    "    multiple=\"stack\",\n",
    "    palette=\"light:m_r\",\n",
    "    edgecolor=\".3\",\n",
    "    linewidth=.5,\n",
    "    log_scale=True,\n",
    ")"
   ]
  },
  {
   "cell_type": "markdown",
   "id": "e4d1a7a9",
   "metadata": {},
   "source": [
    "- Not too clear, so another diagram is generated"
   ]
  },
  {
   "cell_type": "code",
   "execution_count": 28,
   "id": "b70f2a01",
   "metadata": {
    "scrolled": false
   },
   "outputs": [
    {
     "data": {
      "text/plain": [
       "<seaborn.axisgrid.FacetGrid at 0x7ff61b9d34f0>"
      ]
     },
     "execution_count": 28,
     "metadata": {},
     "output_type": "execute_result"
    },
    {
     "data": {
      "image/png": "[encoded data removed]",
      "text/plain": [
       "<Figure size 404.875x360 with 1 Axes>"
      ]
     },
     "metadata": {
      "needs_background": "light"
     },
     "output_type": "display_data"
    }
   ],
   "source": [
    "sns.displot(\n",
    "    cost99,\n",
    "    x=\"Total_Costs\", hue=\"Gender\",\n",
    "    kind='kde'\n",
    ")"
   ]
  },
  {
   "cell_type": "markdown",
   "id": "962118ee",
   "metadata": {},
   "source": [
    "Relationship between age and costs"
   ]
  },
  {
   "cell_type": "code",
   "execution_count": 29,
   "id": "31e78938",
   "metadata": {},
   "outputs": [
    {
     "data": {
      "text/plain": [
       "<seaborn.axisgrid.FacetGrid at 0x7ff61aa3edc0>"
      ]
     },
     "execution_count": 29,
     "metadata": {},
     "output_type": "execute_result"
    },
    {
     "data": {
      "image/png": "[encoded data removed]",
      "text/plain": [
       "<Figure size 452.375x360 with 1 Axes>"
      ]
     },
     "metadata": {
      "needs_background": "light"
     },
     "output_type": "display_data"
    }
   ],
   "source": [
    "sns.displot(\n",
    "    cost99,\n",
    "    x=\"Total_Costs\", hue=\"Age_Group\",\n",
    "    kind='kde'\n",
    ")"
   ]
  },
  {
   "cell_type": "markdown",
   "id": "f139d418",
   "metadata": {},
   "source": [
    "Relationship between race and costs"
   ]
  },
  {
   "cell_type": "code",
   "execution_count": 30,
   "id": "6642361a",
   "metadata": {
    "scrolled": true
   },
   "outputs": [
    {
     "data": {
      "text/plain": [
       "<seaborn.axisgrid.FacetGrid at 0x7ff61b9f2460>"
      ]
     },
     "execution_count": 30,
     "metadata": {},
     "output_type": "execute_result"
    },
    {
     "data": {
      "image/png": "[encoded data removed]",
      "text/plain": [
       "<Figure size 512.375x360 with 1 Axes>"
      ]
     },
     "metadata": {
      "needs_background": "light"
     },
     "output_type": "display_data"
    }
   ],
   "source": [
    "sns.displot(\n",
    "    cost99,\n",
    "    x=\"Total_Costs\", hue=\"Race\",\n",
    "    kind='kde'\n",
    ")"
   ]
  },
  {
   "cell_type": "markdown",
   "id": "94f8282f",
   "metadata": {},
   "source": [
    "Then analyze the statistics of total charges"
   ]
  },
  {
   "cell_type": "code",
   "execution_count": 31,
   "id": "e92de331",
   "metadata": {},
   "outputs": [
    {
     "data": {
      "text/plain": [
       "<AxesSubplot:>"
      ]
     },
     "execution_count": 31,
     "metadata": {},
     "output_type": "execute_result"
    },
    {
     "data": {
      "image/png": "[encoded data removed]",
      "text/plain": [
       "<Figure size 432x288 with 1 Axes>"
      ]
     },
     "metadata": {
      "needs_background": "light"
     },
     "output_type": "display_data"
    }
   ],
   "source": [
    "df.Total_Charges.hist()"
   ]
  },
  {
   "cell_type": "code",
   "execution_count": 32,
   "id": "b4875ea9",
   "metadata": {},
   "outputs": [
    {
     "data": {
      "text/plain": [
       "297756      True\n",
       "82645      False\n",
       "534928      True\n",
       "1639749     True\n",
       "452272      True\n",
       "           ...  \n",
       "347071      True\n",
       "56300       True\n",
       "179233      True\n",
       "2475279     True\n",
       "202441      True\n",
       "Name: Total_Charges, Length: 2434522, dtype: bool"
      ]
     },
     "execution_count": 32,
     "metadata": {},
     "output_type": "execute_result"
    }
   ],
   "source": [
    "charge=df['Total_Charges']\n",
    "charge=df.Total_Charges\n",
    "lower_charge = (charge < 99999)\n",
    "lower_charge"
   ]
  },
  {
   "cell_type": "code",
   "execution_count": 33,
   "id": "ae6e3247",
   "metadata": {},
   "outputs": [],
   "source": [
    "charge99 = df.where(lower_charge)"
   ]
  },
  {
   "cell_type": "code",
   "execution_count": 34,
   "id": "2c1d80ea",
   "metadata": {},
   "outputs": [
    {
     "data": {
      "text/plain": [
       "<seaborn.axisgrid.FacetGrid at 0x7ff61a9c7550>"
      ]
     },
     "execution_count": 34,
     "metadata": {},
     "output_type": "execute_result"
    },
    {
     "data": {
      "image/png": "[encoded data removed]",
      "text/plain": [
       "<Figure size 360x360 with 1 Axes>"
      ]
     },
     "metadata": {
      "needs_background": "light"
     },
     "output_type": "display_data"
    }
   ],
   "source": [
    "sns.displot(charge99.Total_Charges, kde=True)"
   ]
  },
  {
   "cell_type": "markdown",
   "id": "75a3e6fa",
   "metadata": {},
   "source": [
    "- find the relationship between total charges and total costs"
   ]
  },
  {
   "cell_type": "code",
   "execution_count": 35,
   "id": "000bcdfb",
   "metadata": {},
   "outputs": [
    {
     "data": {
      "text/plain": [
       "2434522"
      ]
     },
     "execution_count": 35,
     "metadata": {},
     "output_type": "execute_result"
    }
   ],
   "source": [
    "df.shape[0]\n",
    "len(df)"
   ]
  },
  {
   "cell_type": "code",
   "execution_count": 36,
   "id": "7a94c1df",
   "metadata": {},
   "outputs": [],
   "source": [
    "df_array = np.asarray(df)"
   ]
  },
  {
   "cell_type": "code",
   "execution_count": 37,
   "id": "e0f28049",
   "metadata": {
    "scrolled": true
   },
   "outputs": [
    {
     "data": {
      "text/plain": [
       "(24345, 33)"
      ]
     },
     "execution_count": 37,
     "metadata": {},
     "output_type": "execute_result"
    }
   ],
   "source": [
    "# make a small split\n",
    "data_sampling_ratio = 0.01\n",
    "rows_to_sample = int(round(data_sampling_ratio * df_array.shape[0]))\n",
    "idx_rows_to_sample = rand.sample(list(range(len(df_array))), rows_to_sample)\n",
    "\n",
    "df_small_array = df_array[idx_rows_to_sample, :]\n",
    "df_small_array.shape"
   ]
  },
  {
   "cell_type": "code",
   "execution_count": 38,
   "id": "b4963b89",
   "metadata": {},
   "outputs": [
    {
     "data": {
      "text/plain": [
       "Index(['Id', 'Health_Service_Area', 'Hospital_County',\n",
       "       'Operating_Certificate_Number', 'Facility_Name', 'Age_Group',\n",
       "       'Zip_Code_3_digits', 'Gender', 'Race', 'Ethnicity', 'Length_of_Stay',\n",
       "       'Type_of_Admission', 'Patient_Disposition', 'Discharge_Year',\n",
       "       'CCS_Diagnosis_Code', 'CCS_Diagnosis_Description', 'CCS_Procedure_Code',\n",
       "       'CCS_Procedure_Description', 'APR_DRG_Code', 'APR_DRG_Description',\n",
       "       'APR_MDC_Code', 'APR_MDC Description', 'APR_Severity_of_Illness_Code',\n",
       "       'APR_Severity_of_Illness_Description', 'APR_Risk_of_Mortality',\n",
       "       'APR_Medical_Surgical_Description', 'Payment_Typology_1',\n",
       "       'Payment_Typology_2', 'Payment_Typology_3', 'Abortion_Edit_Indicator',\n",
       "       'Emergency_Department_Indicator', 'Total_Charges', 'Total_Costs'],\n",
       "      dtype='object')"
      ]
     },
     "execution_count": 38,
     "metadata": {},
     "output_type": "execute_result"
    }
   ],
   "source": [
    "df_top = df.columns\n",
    "df_top"
   ]
  },
  {
   "cell_type": "code",
   "execution_count": 39,
   "id": "89e04bf8",
   "metadata": {},
   "outputs": [
    {
     "data": {
      "text/html": [
       "<div>\n",
       "<style scoped>\n",
       "    .dataframe tbody tr th:only-of-type {\n",
       "        vertical-align: middle;\n",
       "    }\n",
       "\n",
       "    .dataframe tbody tr th {\n",
       "        vertical-align: top;\n",
       "    }\n",
       "\n",
       "    .dataframe thead th {\n",
       "        text-align: right;\n",
       "    }\n",
       "</style>\n",
       "<table border=\"1\" class=\"dataframe\">\n",
       "  <thead>\n",
       "    <tr style=\"text-align: right;\">\n",
       "      <th></th>\n",
       "      <th>Id</th>\n",
       "      <th>Health_Service_Area</th>\n",
       "      <th>Hospital_County</th>\n",
       "      <th>Operating_Certificate_Number</th>\n",
       "      <th>Facility_Name</th>\n",
       "      <th>Age_Group</th>\n",
       "      <th>Zip_Code_3_digits</th>\n",
       "      <th>Gender</th>\n",
       "      <th>Race</th>\n",
       "      <th>Ethnicity</th>\n",
       "      <th>...</th>\n",
       "      <th>APR_Severity_of_Illness_Description</th>\n",
       "      <th>APR_Risk_of_Mortality</th>\n",
       "      <th>APR_Medical_Surgical_Description</th>\n",
       "      <th>Payment_Typology_1</th>\n",
       "      <th>Payment_Typology_2</th>\n",
       "      <th>Payment_Typology_3</th>\n",
       "      <th>Abortion_Edit_Indicator</th>\n",
       "      <th>Emergency_Department_Indicator</th>\n",
       "      <th>Total_Charges</th>\n",
       "      <th>Total_Costs</th>\n",
       "    </tr>\n",
       "  </thead>\n",
       "  <tbody>\n",
       "    <tr>\n",
       "      <th>0</th>\n",
       "      <td>1270371</td>\n",
       "      <td>New York City</td>\n",
       "      <td>Kings</td>\n",
       "      <td>7001037.0</td>\n",
       "      <td>SUNY Downstate Medical Center at LICH</td>\n",
       "      <td>70 or Older</td>\n",
       "      <td>112</td>\n",
       "      <td>M</td>\n",
       "      <td>Other Race</td>\n",
       "      <td>Not Span/Hispanic</td>\n",
       "      <td>...</td>\n",
       "      <td>Moderate</td>\n",
       "      <td>Moderate</td>\n",
       "      <td>Medical</td>\n",
       "      <td>Medicare</td>\n",
       "      <td>Medicaid</td>\n",
       "      <td>Self-Pay</td>\n",
       "      <td>N</td>\n",
       "      <td>Y</td>\n",
       "      <td>8887.0</td>\n",
       "      <td>5396.29</td>\n",
       "    </tr>\n",
       "    <tr>\n",
       "      <th>1</th>\n",
       "      <td>1164533</td>\n",
       "      <td>New York City</td>\n",
       "      <td>Bronx</td>\n",
       "      <td>7000006.0</td>\n",
       "      <td>Montefiore Med Center - Jack D Weiler Hosp of ...</td>\n",
       "      <td>50 to 69</td>\n",
       "      <td>104</td>\n",
       "      <td>F</td>\n",
       "      <td>White</td>\n",
       "      <td>Not Span/Hispanic</td>\n",
       "      <td>...</td>\n",
       "      <td>Moderate</td>\n",
       "      <td>Minor</td>\n",
       "      <td>Medical</td>\n",
       "      <td>Medicaid</td>\n",
       "      <td>Self-Pay</td>\n",
       "      <td>NaN</td>\n",
       "      <td>N</td>\n",
       "      <td>Y</td>\n",
       "      <td>67907.6</td>\n",
       "      <td>13278.79</td>\n",
       "    </tr>\n",
       "    <tr>\n",
       "      <th>2</th>\n",
       "      <td>1737281</td>\n",
       "      <td>New York City</td>\n",
       "      <td>Manhattan</td>\n",
       "      <td>7002054.0</td>\n",
       "      <td>New York Presbyterian Hospital - New York Weil...</td>\n",
       "      <td>18 to 29</td>\n",
       "      <td>111</td>\n",
       "      <td>F</td>\n",
       "      <td>Other Race</td>\n",
       "      <td>Spanish/Hispanic</td>\n",
       "      <td>...</td>\n",
       "      <td>Moderate</td>\n",
       "      <td>Minor</td>\n",
       "      <td>Surgical</td>\n",
       "      <td>Medicaid</td>\n",
       "      <td>Medicaid</td>\n",
       "      <td>Self-Pay</td>\n",
       "      <td>N</td>\n",
       "      <td>Y</td>\n",
       "      <td>23236.79</td>\n",
       "      <td>7308.92</td>\n",
       "    </tr>\n",
       "    <tr>\n",
       "      <th>3</th>\n",
       "      <td>298045</td>\n",
       "      <td>Finger Lakes</td>\n",
       "      <td>Monroe</td>\n",
       "      <td>2754001.0</td>\n",
       "      <td>The Unity Hospital of Rochester</td>\n",
       "      <td>70 or Older</td>\n",
       "      <td>146</td>\n",
       "      <td>F</td>\n",
       "      <td>White</td>\n",
       "      <td>Not Span/Hispanic</td>\n",
       "      <td>...</td>\n",
       "      <td>Minor</td>\n",
       "      <td>Minor</td>\n",
       "      <td>Surgical</td>\n",
       "      <td>Medicare</td>\n",
       "      <td>Medicare</td>\n",
       "      <td>NaN</td>\n",
       "      <td>N</td>\n",
       "      <td>Y</td>\n",
       "      <td>16926.32</td>\n",
       "      <td>7602.05</td>\n",
       "    </tr>\n",
       "    <tr>\n",
       "      <th>4</th>\n",
       "      <td>2306794</td>\n",
       "      <td>Long Island</td>\n",
       "      <td>Nassau</td>\n",
       "      <td>2950002.0</td>\n",
       "      <td>Nassau University Medical Center</td>\n",
       "      <td>30 to 49</td>\n",
       "      <td>115</td>\n",
       "      <td>F</td>\n",
       "      <td>White</td>\n",
       "      <td>Spanish/Hispanic</td>\n",
       "      <td>...</td>\n",
       "      <td>Minor</td>\n",
       "      <td>Minor</td>\n",
       "      <td>Medical</td>\n",
       "      <td>Medicaid</td>\n",
       "      <td>Medicaid</td>\n",
       "      <td>Self-Pay</td>\n",
       "      <td>N</td>\n",
       "      <td>Y</td>\n",
       "      <td>2604.83</td>\n",
       "      <td>1377.97</td>\n",
       "    </tr>\n",
       "    <tr>\n",
       "      <th>...</th>\n",
       "      <td>...</td>\n",
       "      <td>...</td>\n",
       "      <td>...</td>\n",
       "      <td>...</td>\n",
       "      <td>...</td>\n",
       "      <td>...</td>\n",
       "      <td>...</td>\n",
       "      <td>...</td>\n",
       "      <td>...</td>\n",
       "      <td>...</td>\n",
       "      <td>...</td>\n",
       "      <td>...</td>\n",
       "      <td>...</td>\n",
       "      <td>...</td>\n",
       "      <td>...</td>\n",
       "      <td>...</td>\n",
       "      <td>...</td>\n",
       "      <td>...</td>\n",
       "      <td>...</td>\n",
       "      <td>...</td>\n",
       "      <td>...</td>\n",
       "    </tr>\n",
       "    <tr>\n",
       "      <th>24340</th>\n",
       "      <td>1214076</td>\n",
       "      <td>New York City</td>\n",
       "      <td>Kings</td>\n",
       "      <td>7001009.0</td>\n",
       "      <td>Coney Island Hospital</td>\n",
       "      <td>30 to 49</td>\n",
       "      <td>112</td>\n",
       "      <td>F</td>\n",
       "      <td>White</td>\n",
       "      <td>Not Span/Hispanic</td>\n",
       "      <td>...</td>\n",
       "      <td>Moderate</td>\n",
       "      <td>Minor</td>\n",
       "      <td>Medical</td>\n",
       "      <td>Medicaid</td>\n",
       "      <td>NaN</td>\n",
       "      <td>NaN</td>\n",
       "      <td>N</td>\n",
       "      <td>Y</td>\n",
       "      <td>8726.09</td>\n",
       "      <td>11153.3</td>\n",
       "    </tr>\n",
       "    <tr>\n",
       "      <th>24341</th>\n",
       "      <td>1952460</td>\n",
       "      <td>New York City</td>\n",
       "      <td>Queens</td>\n",
       "      <td>7003003.0</td>\n",
       "      <td>Jamaica Hospital Medical Center</td>\n",
       "      <td>30 to 49</td>\n",
       "      <td>114</td>\n",
       "      <td>F</td>\n",
       "      <td>Black/African American</td>\n",
       "      <td>Not Span/Hispanic</td>\n",
       "      <td>...</td>\n",
       "      <td>Minor</td>\n",
       "      <td>Minor</td>\n",
       "      <td>Surgical</td>\n",
       "      <td>Medicaid</td>\n",
       "      <td>NaN</td>\n",
       "      <td>NaN</td>\n",
       "      <td>N</td>\n",
       "      <td>Y</td>\n",
       "      <td>44363.82</td>\n",
       "      <td>16505.02</td>\n",
       "    </tr>\n",
       "    <tr>\n",
       "      <th>24342</th>\n",
       "      <td>1908489</td>\n",
       "      <td>New York City</td>\n",
       "      <td>Queens</td>\n",
       "      <td>7003000.0</td>\n",
       "      <td>Elmhurst Hospital Center</td>\n",
       "      <td>18 to 29</td>\n",
       "      <td>114</td>\n",
       "      <td>F</td>\n",
       "      <td>Other Race</td>\n",
       "      <td>Spanish/Hispanic</td>\n",
       "      <td>...</td>\n",
       "      <td>Minor</td>\n",
       "      <td>Minor</td>\n",
       "      <td>Medical</td>\n",
       "      <td>Medicaid</td>\n",
       "      <td>NaN</td>\n",
       "      <td>NaN</td>\n",
       "      <td>N</td>\n",
       "      <td>Y</td>\n",
       "      <td>3728.16</td>\n",
       "      <td>2663.13</td>\n",
       "    </tr>\n",
       "    <tr>\n",
       "      <th>24343</th>\n",
       "      <td>1171269</td>\n",
       "      <td>New York City</td>\n",
       "      <td>Bronx</td>\n",
       "      <td>7000006.0</td>\n",
       "      <td>Montefiore Med Center - Jack D Weiler Hosp of ...</td>\n",
       "      <td>18 to 29</td>\n",
       "      <td>104</td>\n",
       "      <td>F</td>\n",
       "      <td>Other Race</td>\n",
       "      <td>Spanish/Hispanic</td>\n",
       "      <td>...</td>\n",
       "      <td>Moderate</td>\n",
       "      <td>Minor</td>\n",
       "      <td>Medical</td>\n",
       "      <td>Medicaid</td>\n",
       "      <td>Medicaid</td>\n",
       "      <td>Self-Pay</td>\n",
       "      <td>N</td>\n",
       "      <td>Y</td>\n",
       "      <td>9019.4</td>\n",
       "      <td>2448.35</td>\n",
       "    </tr>\n",
       "    <tr>\n",
       "      <th>24344</th>\n",
       "      <td>2465919</td>\n",
       "      <td>Long Island</td>\n",
       "      <td>Suffolk</td>\n",
       "      <td>5153000.0</td>\n",
       "      <td>Huntington Hospital</td>\n",
       "      <td>0 to 17</td>\n",
       "      <td>117</td>\n",
       "      <td>F</td>\n",
       "      <td>White</td>\n",
       "      <td>Not Span/Hispanic</td>\n",
       "      <td>...</td>\n",
       "      <td>Minor</td>\n",
       "      <td>Minor</td>\n",
       "      <td>Surgical</td>\n",
       "      <td>Private Health Insurance</td>\n",
       "      <td>NaN</td>\n",
       "      <td>NaN</td>\n",
       "      <td>N</td>\n",
       "      <td>Y</td>\n",
       "      <td>14991.1</td>\n",
       "      <td>7476.72</td>\n",
       "    </tr>\n",
       "  </tbody>\n",
       "</table>\n",
       "<p>24345 rows × 33 columns</p>\n",
       "</div>"
      ],
      "text/plain": [
       "            Id Health_Service_Area Hospital_County  \\\n",
       "0      1270371       New York City           Kings   \n",
       "1      1164533       New York City           Bronx   \n",
       "2      1737281       New York City       Manhattan   \n",
       "3       298045        Finger Lakes          Monroe   \n",
       "4      2306794         Long Island          Nassau   \n",
       "...        ...                 ...             ...   \n",
       "24340  1214076       New York City           Kings   \n",
       "24341  1952460       New York City          Queens   \n",
       "24342  1908489       New York City          Queens   \n",
       "24343  1171269       New York City           Bronx   \n",
       "24344  2465919         Long Island         Suffolk   \n",
       "\n",
       "      Operating_Certificate_Number  \\\n",
       "0                        7001037.0   \n",
       "1                        7000006.0   \n",
       "2                        7002054.0   \n",
       "3                        2754001.0   \n",
       "4                        2950002.0   \n",
       "...                            ...   \n",
       "24340                    7001009.0   \n",
       "24341                    7003003.0   \n",
       "24342                    7003000.0   \n",
       "24343                    7000006.0   \n",
       "24344                    5153000.0   \n",
       "\n",
       "                                           Facility_Name    Age_Group  \\\n",
       "0                  SUNY Downstate Medical Center at LICH  70 or Older   \n",
       "1      Montefiore Med Center - Jack D Weiler Hosp of ...     50 to 69   \n",
       "2      New York Presbyterian Hospital - New York Weil...     18 to 29   \n",
       "3                        The Unity Hospital of Rochester  70 or Older   \n",
       "4                       Nassau University Medical Center     30 to 49   \n",
       "...                                                  ...          ...   \n",
       "24340                              Coney Island Hospital     30 to 49   \n",
       "24341                    Jamaica Hospital Medical Center     30 to 49   \n",
       "24342                           Elmhurst Hospital Center     18 to 29   \n",
       "24343  Montefiore Med Center - Jack D Weiler Hosp of ...     18 to 29   \n",
       "24344                                Huntington Hospital      0 to 17   \n",
       "\n",
       "      Zip_Code_3_digits Gender                    Race          Ethnicity  \\\n",
       "0                   112      M              Other Race  Not Span/Hispanic   \n",
       "1                   104      F                   White  Not Span/Hispanic   \n",
       "2                   111      F              Other Race   Spanish/Hispanic   \n",
       "3                   146      F                   White  Not Span/Hispanic   \n",
       "4                   115      F                   White   Spanish/Hispanic   \n",
       "...                 ...    ...                     ...                ...   \n",
       "24340               112      F                   White  Not Span/Hispanic   \n",
       "24341               114      F  Black/African American  Not Span/Hispanic   \n",
       "24342               114      F              Other Race   Spanish/Hispanic   \n",
       "24343               104      F              Other Race   Spanish/Hispanic   \n",
       "24344               117      F                   White  Not Span/Hispanic   \n",
       "\n",
       "       ... APR_Severity_of_Illness_Description APR_Risk_of_Mortality  \\\n",
       "0      ...                            Moderate              Moderate   \n",
       "1      ...                            Moderate                 Minor   \n",
       "2      ...                            Moderate                 Minor   \n",
       "3      ...                               Minor                 Minor   \n",
       "4      ...                               Minor                 Minor   \n",
       "...    ...                                 ...                   ...   \n",
       "24340  ...                            Moderate                 Minor   \n",
       "24341  ...                               Minor                 Minor   \n",
       "24342  ...                               Minor                 Minor   \n",
       "24343  ...                            Moderate                 Minor   \n",
       "24344  ...                               Minor                 Minor   \n",
       "\n",
       "      APR_Medical_Surgical_Description        Payment_Typology_1  \\\n",
       "0                              Medical                  Medicare   \n",
       "1                              Medical                  Medicaid   \n",
       "2                             Surgical                  Medicaid   \n",
       "3                             Surgical                  Medicare   \n",
       "4                              Medical                  Medicaid   \n",
       "...                                ...                       ...   \n",
       "24340                          Medical                  Medicaid   \n",
       "24341                         Surgical                  Medicaid   \n",
       "24342                          Medical                  Medicaid   \n",
       "24343                          Medical                  Medicaid   \n",
       "24344                         Surgical  Private Health Insurance   \n",
       "\n",
       "      Payment_Typology_2 Payment_Typology_3 Abortion_Edit_Indicator  \\\n",
       "0               Medicaid           Self-Pay                       N   \n",
       "1               Self-Pay                NaN                       N   \n",
       "2               Medicaid           Self-Pay                       N   \n",
       "3               Medicare                NaN                       N   \n",
       "4               Medicaid           Self-Pay                       N   \n",
       "...                  ...                ...                     ...   \n",
       "24340                NaN                NaN                       N   \n",
       "24341                NaN                NaN                       N   \n",
       "24342                NaN                NaN                       N   \n",
       "24343           Medicaid           Self-Pay                       N   \n",
       "24344                NaN                NaN                       N   \n",
       "\n",
       "      Emergency_Department_Indicator Total_Charges Total_Costs  \n",
       "0                                  Y        8887.0     5396.29  \n",
       "1                                  Y       67907.6    13278.79  \n",
       "2                                  Y      23236.79     7308.92  \n",
       "3                                  Y      16926.32     7602.05  \n",
       "4                                  Y       2604.83     1377.97  \n",
       "...                              ...           ...         ...  \n",
       "24340                              Y       8726.09     11153.3  \n",
       "24341                              Y      44363.82    16505.02  \n",
       "24342                              Y       3728.16     2663.13  \n",
       "24343                              Y        9019.4     2448.35  \n",
       "24344                              Y       14991.1     7476.72  \n",
       "\n",
       "[24345 rows x 33 columns]"
      ]
     },
     "execution_count": 39,
     "metadata": {},
     "output_type": "execute_result"
    }
   ],
   "source": [
    "df_small = pd.DataFrame(df_small_array, columns = df_top)\n",
    "df_small"
   ]
  },
  {
   "cell_type": "code",
   "execution_count": 40,
   "id": "f0fe8b2b",
   "metadata": {},
   "outputs": [
    {
     "data": {
      "text/plain": [
       "<AxesSubplot:xlabel='Health_Service_Area', ylabel='Total_Charges'>"
      ]
     },
     "execution_count": 40,
     "metadata": {},
     "output_type": "execute_result"
    },
    {
     "data": {
      "image/png": "[encoded data removed]",
      "text/plain": [
       "<Figure size 432x288 with 1 Axes>"
      ]
     },
     "metadata": {
      "needs_background": "light"
     },
     "output_type": "display_data"
    }
   ],
   "source": [
    "sns.boxplot(\n",
    "    data = df_small,\n",
    "    y=\"Total_Charges\", x=\"Health_Service_Area\"\n",
    ")"
   ]
  },
  {
   "cell_type": "markdown",
   "id": "ffc27b91",
   "metadata": {},
   "source": [
    "**Feature Transform**<br>\n",
    "Transform the string values ‘120 +’ at the Length of Stay columns to integer 120 <br>\n",
    "***Need more explaination, like why do this transformation?***"
   ]
  },
  {
   "cell_type": "code",
   "execution_count": 41,
   "id": "5826a6af",
   "metadata": {},
   "outputs": [
    {
     "data": {
      "text/plain": [
       "1965"
      ]
     },
     "execution_count": 41,
     "metadata": {},
     "output_type": "execute_result"
    }
   ],
   "source": [
    "los = df['Length_of_Stay'][df['Length_of_Stay'] == \"120 +\"].count()\n",
    "los"
   ]
  },
  {
   "cell_type": "code",
   "execution_count": 42,
   "id": "7d9d72a9",
   "metadata": {
    "scrolled": true
   },
   "outputs": [],
   "source": [
    "df['Length_of_Stay'] = df['Length_of_Stay'].replace([\"120 +\"], 120)"
   ]
  },
  {
   "cell_type": "code",
   "execution_count": 43,
   "id": "aa012b59",
   "metadata": {},
   "outputs": [],
   "source": [
    "los = df['Length_of_Stay'][df['Length_of_Stay'] == 120].count()\n",
    "df['Length_of_Stay'] = pd.to_numeric(df['Length_of_Stay'])"
   ]
  },
  {
   "cell_type": "code",
   "execution_count": 44,
   "id": "686bafa7",
   "metadata": {},
   "outputs": [],
   "source": [
    "chosen_to_numeric = [\n",
    "    'Total_Costs',\n",
    "    'Zip_Code_3_digits',\n",
    "    'Length_of_Stay'\n",
    "]\n",
    "for i in chosen_to_numeric:\n",
    "    df[i] = pd.to_numeric(df[i])"
   ]
  },
  {
   "cell_type": "markdown",
   "id": "73a5f92b",
   "metadata": {},
   "source": [
    "one-hot encoding to categoratal features<br><br>\n",
    "Gender: F / M / U (for unknown or unspecified)<br>\n",
    "    'Age_Group',<br>\n",
    "        'Race',<br>\n",
    "    # 'CCS_Diagnosis_Description',<br>\n",
    "    'APR_Risk_of_Mortality'<br>\n",
    "    APR_Severity_of_Illness_Description<br>\n",
    "    Health_Service_Area<br>"
   ]
  },
  {
   "cell_type": "code",
   "execution_count": 45,
   "id": "4de44c39",
   "metadata": {},
   "outputs": [],
   "source": [
    "def onehot(column=None, col=None):\n",
    "    return pd.get_dummies(df[column], prefix = column, dummy_na= ('NaN' in col))"
   ]
  },
  {
   "cell_type": "code",
   "execution_count": 46,
   "id": "5ae7d52c",
   "metadata": {},
   "outputs": [],
   "source": [
    "cat_labels = [\n",
    "        'Gender',\n",
    "    'Age_Group',\n",
    "        'Race',\n",
    "    # 'CCS_Diagnosis_Description',\n",
    "    'APR_Risk_of_Mortality',\n",
    "    'APR_Severity_of_Illness_Description',\n",
    "    'Health_Service_Area',\n",
    "    'Zip_Code_3_digits'\n",
    "]\n",
    "cats_sets = [df.loc[:, label].fillna('NaN').unique() for label in cat_labels]"
   ]
  },
  {
   "cell_type": "code",
   "execution_count": 47,
   "id": "afc8e550",
   "metadata": {},
   "outputs": [
    {
     "name": "stderr",
     "output_type": "stream",
     "text": [
      "<ipython-input-45-11f06453fe4d>:2: FutureWarning: elementwise comparison failed; returning scalar instead, but in the future will perform elementwise comparison\n",
      "  return pd.get_dummies(df[column], prefix = column, dummy_na= ('NaN' in col))\n"
     ]
    }
   ],
   "source": [
    "cat_vals1 = {} \n",
    "for i in range(len(cat_labels)):\n",
    "    cat_vals1[i] = onehot(cat_labels[i], cats_sets[i]).iloc[:]\n",
    "    # print(len(cat_vals1[i]))"
   ]
  },
  {
   "cell_type": "markdown",
   "id": "6b2c7c7d",
   "metadata": {},
   "source": [
    "**下面没有做train/test改动**"
   ]
  },
  {
   "cell_type": "code",
   "execution_count": 48,
   "id": "b895ca0c",
   "metadata": {},
   "outputs": [],
   "source": [
    "# offset\n",
    "num = len(cat_labels)\n",
    "length = len(cat_vals1[0])\n",
    "cat_vals = np.zeros(length)\n",
    "cat_vals = cat_vals.reshape(length, 1)\n",
    "\n",
    "for i in range(0, num):\n",
    "    cat_vals = np.concatenate((cat_vals, cat_vals1[i]), axis=1)"
   ]
  },
  {
   "cell_type": "code",
   "execution_count": 49,
   "id": "9eeab788",
   "metadata": {},
   "outputs": [
    {
     "data": {
      "text/plain": [
       "(2434522, 78)"
      ]
     },
     "execution_count": 49,
     "metadata": {},
     "output_type": "execute_result"
    }
   ],
   "source": [
    "cat_vals.shape"
   ]
  },
  {
   "cell_type": "code",
   "execution_count": 50,
   "id": "fcbff4cf",
   "metadata": {},
   "outputs": [
    {
     "data": {
      "text/plain": [
       "'Blue Cross/Blue Shield&nan&nan'"
      ]
     },
     "execution_count": 50,
     "metadata": {},
     "output_type": "execute_result"
    }
   ],
   "source": [
    "stri = str(df.loc[:, 'Payment_Typology_1'][0]) + \"&\" + str(df.loc[:, 'Payment_Typology_2'][0]) + \"&\"+  str(df.loc[:, 'Payment_Typology_3'][0])\n",
    "\n",
    "stri"
   ]
  },
  {
   "cell_type": "code",
   "execution_count": 51,
   "id": "9a4f6d01",
   "metadata": {},
   "outputs": [],
   "source": [
    "df['Payment_Typology'] = df.apply(lambda x:'%s_%s_%s' % (x['Payment_Typology_1'],x['Payment_Typology_2'],x['Payment_Typology_3']),axis=1)"
   ]
  },
  {
   "cell_type": "code",
   "execution_count": 52,
   "id": "e2ab8bee",
   "metadata": {},
   "outputs": [
    {
     "data": {
      "text/plain": [
       "{'Blue Cross/Blue Shield', 'Medicare'}"
      ]
     },
     "execution_count": 52,
     "metadata": {},
     "output_type": "execute_result"
    }
   ],
   "source": [
    "aaa = (df.loc[:, 'Payment_Typology'][285].replace('nan','').replace('\\n','').split('_'))\n",
    "aaa = set(filter(bool, aaa))\n",
    "aaa"
   ]
  },
  {
   "cell_type": "code",
   "execution_count": 53,
   "id": "1cfb8058",
   "metadata": {},
   "outputs": [],
   "source": [
    "def parse_str(string):\n",
    "    my_list = (string).replace('nan','').replace('\\n','').split('_')\n",
    "    return set(filter(bool, my_list))"
   ]
  },
  {
   "cell_type": "code",
   "execution_count": 54,
   "id": "eb1e1786",
   "metadata": {},
   "outputs": [],
   "source": [
    "set_vals = df.loc[:, 'Payment_Typology'].apply(parse_str).iloc[:]"
   ]
  },
  {
   "cell_type": "code",
   "execution_count": 55,
   "id": "e19932ab",
   "metadata": {},
   "outputs": [],
   "source": [
    "type1 = set_vals.explode().unique()\n",
    "\n",
    "def manyhot(column=None, col=None):\n",
    "    rowNum = len(column)\n",
    "    data = {}\n",
    "    col = type1\n",
    "    for i in range(len(col)):\n",
    "        data[col[i]] = [0] * rowNum\n",
    "    temp = column\n",
    "    temp = temp.reset_index(drop=True)\n",
    "    for i in range(len(temp)):\n",
    "        for eachHot in temp[i]:\n",
    "            data[eachHot][i] += 1\n",
    "    df_raw = pd.DataFrame(data, columns = col)\n",
    "    df_raw = df_raw.set_index(column.index)\n",
    "    return df_raw"
   ]
  },
  {
   "cell_type": "code",
   "execution_count": 56,
   "id": "e626432e",
   "metadata": {},
   "outputs": [],
   "source": [
    "set_vals = manyhot(set_vals, type1)"
   ]
  },
  {
   "cell_type": "code",
   "execution_count": 57,
   "id": "07fca528",
   "metadata": {},
   "outputs": [
    {
     "data": {
      "text/html": [
       "<div>\n",
       "<style scoped>\n",
       "    .dataframe tbody tr th:only-of-type {\n",
       "        vertical-align: middle;\n",
       "    }\n",
       "\n",
       "    .dataframe tbody tr th {\n",
       "        vertical-align: top;\n",
       "    }\n",
       "\n",
       "    .dataframe thead th {\n",
       "        text-align: right;\n",
       "    }\n",
       "</style>\n",
       "<table border=\"1\" class=\"dataframe\">\n",
       "  <thead>\n",
       "    <tr style=\"text-align: right;\">\n",
       "      <th></th>\n",
       "      <th>Medicare</th>\n",
       "      <th>Private Health Insurance</th>\n",
       "      <th>Blue Cross/Blue Shield</th>\n",
       "      <th>Self-Pay</th>\n",
       "      <th>Medicaid</th>\n",
       "      <th>Miscellaneous/Other</th>\n",
       "      <th>Federal/State/Local/VA</th>\n",
       "      <th>Unknown</th>\n",
       "      <th>Managed Care, Unspecified</th>\n",
       "      <th>Department of Corrections</th>\n",
       "    </tr>\n",
       "  </thead>\n",
       "  <tbody>\n",
       "    <tr>\n",
       "      <th>297756</th>\n",
       "      <td>1</td>\n",
       "      <td>0</td>\n",
       "      <td>0</td>\n",
       "      <td>0</td>\n",
       "      <td>0</td>\n",
       "      <td>0</td>\n",
       "      <td>0</td>\n",
       "      <td>0</td>\n",
       "      <td>0</td>\n",
       "      <td>0</td>\n",
       "    </tr>\n",
       "    <tr>\n",
       "      <th>82645</th>\n",
       "      <td>0</td>\n",
       "      <td>1</td>\n",
       "      <td>0</td>\n",
       "      <td>0</td>\n",
       "      <td>0</td>\n",
       "      <td>0</td>\n",
       "      <td>0</td>\n",
       "      <td>0</td>\n",
       "      <td>0</td>\n",
       "      <td>0</td>\n",
       "    </tr>\n",
       "    <tr>\n",
       "      <th>534928</th>\n",
       "      <td>1</td>\n",
       "      <td>0</td>\n",
       "      <td>1</td>\n",
       "      <td>1</td>\n",
       "      <td>0</td>\n",
       "      <td>0</td>\n",
       "      <td>0</td>\n",
       "      <td>0</td>\n",
       "      <td>0</td>\n",
       "      <td>0</td>\n",
       "    </tr>\n",
       "    <tr>\n",
       "      <th>1639749</th>\n",
       "      <td>0</td>\n",
       "      <td>0</td>\n",
       "      <td>0</td>\n",
       "      <td>0</td>\n",
       "      <td>1</td>\n",
       "      <td>0</td>\n",
       "      <td>0</td>\n",
       "      <td>0</td>\n",
       "      <td>0</td>\n",
       "      <td>0</td>\n",
       "    </tr>\n",
       "    <tr>\n",
       "      <th>452272</th>\n",
       "      <td>0</td>\n",
       "      <td>0</td>\n",
       "      <td>1</td>\n",
       "      <td>1</td>\n",
       "      <td>0</td>\n",
       "      <td>0</td>\n",
       "      <td>0</td>\n",
       "      <td>0</td>\n",
       "      <td>0</td>\n",
       "      <td>0</td>\n",
       "    </tr>\n",
       "    <tr>\n",
       "      <th>...</th>\n",
       "      <td>...</td>\n",
       "      <td>...</td>\n",
       "      <td>...</td>\n",
       "      <td>...</td>\n",
       "      <td>...</td>\n",
       "      <td>...</td>\n",
       "      <td>...</td>\n",
       "      <td>...</td>\n",
       "      <td>...</td>\n",
       "      <td>...</td>\n",
       "    </tr>\n",
       "    <tr>\n",
       "      <th>347071</th>\n",
       "      <td>0</td>\n",
       "      <td>0</td>\n",
       "      <td>0</td>\n",
       "      <td>0</td>\n",
       "      <td>1</td>\n",
       "      <td>0</td>\n",
       "      <td>0</td>\n",
       "      <td>0</td>\n",
       "      <td>0</td>\n",
       "      <td>0</td>\n",
       "    </tr>\n",
       "    <tr>\n",
       "      <th>56300</th>\n",
       "      <td>0</td>\n",
       "      <td>0</td>\n",
       "      <td>0</td>\n",
       "      <td>1</td>\n",
       "      <td>1</td>\n",
       "      <td>0</td>\n",
       "      <td>0</td>\n",
       "      <td>0</td>\n",
       "      <td>0</td>\n",
       "      <td>0</td>\n",
       "    </tr>\n",
       "    <tr>\n",
       "      <th>179233</th>\n",
       "      <td>1</td>\n",
       "      <td>0</td>\n",
       "      <td>0</td>\n",
       "      <td>1</td>\n",
       "      <td>0</td>\n",
       "      <td>0</td>\n",
       "      <td>0</td>\n",
       "      <td>0</td>\n",
       "      <td>0</td>\n",
       "      <td>0</td>\n",
       "    </tr>\n",
       "    <tr>\n",
       "      <th>2475279</th>\n",
       "      <td>0</td>\n",
       "      <td>1</td>\n",
       "      <td>0</td>\n",
       "      <td>0</td>\n",
       "      <td>1</td>\n",
       "      <td>0</td>\n",
       "      <td>0</td>\n",
       "      <td>0</td>\n",
       "      <td>0</td>\n",
       "      <td>0</td>\n",
       "    </tr>\n",
       "    <tr>\n",
       "      <th>202441</th>\n",
       "      <td>1</td>\n",
       "      <td>0</td>\n",
       "      <td>0</td>\n",
       "      <td>0</td>\n",
       "      <td>0</td>\n",
       "      <td>0</td>\n",
       "      <td>0</td>\n",
       "      <td>0</td>\n",
       "      <td>0</td>\n",
       "      <td>0</td>\n",
       "    </tr>\n",
       "  </tbody>\n",
       "</table>\n",
       "<p>2434522 rows × 10 columns</p>\n",
       "</div>"
      ],
      "text/plain": [
       "         Medicare  Private Health Insurance  Blue Cross/Blue Shield  Self-Pay  \\\n",
       "297756          1                         0                       0         0   \n",
       "82645           0                         1                       0         0   \n",
       "534928          1                         0                       1         1   \n",
       "1639749         0                         0                       0         0   \n",
       "452272          0                         0                       1         1   \n",
       "...           ...                       ...                     ...       ...   \n",
       "347071          0                         0                       0         0   \n",
       "56300           0                         0                       0         1   \n",
       "179233          1                         0                       0         1   \n",
       "2475279         0                         1                       0         0   \n",
       "202441          1                         0                       0         0   \n",
       "\n",
       "         Medicaid  Miscellaneous/Other  Federal/State/Local/VA  Unknown  \\\n",
       "297756          0                    0                       0        0   \n",
       "82645           0                    0                       0        0   \n",
       "534928          0                    0                       0        0   \n",
       "1639749         1                    0                       0        0   \n",
       "452272          0                    0                       0        0   \n",
       "...           ...                  ...                     ...      ...   \n",
       "347071          1                    0                       0        0   \n",
       "56300           1                    0                       0        0   \n",
       "179233          0                    0                       0        0   \n",
       "2475279         1                    0                       0        0   \n",
       "202441          0                    0                       0        0   \n",
       "\n",
       "         Managed Care, Unspecified  Department of Corrections  \n",
       "297756                           0                          0  \n",
       "82645                            0                          0  \n",
       "534928                           0                          0  \n",
       "1639749                          0                          0  \n",
       "452272                           0                          0  \n",
       "...                            ...                        ...  \n",
       "347071                           0                          0  \n",
       "56300                            0                          0  \n",
       "179233                           0                          0  \n",
       "2475279                          0                          0  \n",
       "202441                           0                          0  \n",
       "\n",
       "[2434522 rows x 10 columns]"
      ]
     },
     "execution_count": 57,
     "metadata": {},
     "output_type": "execute_result"
    }
   ],
   "source": [
    "set_vals"
   ]
  },
  {
   "cell_type": "code",
   "execution_count": 58,
   "id": "0c56fa7c",
   "metadata": {},
   "outputs": [
    {
     "data": {
      "text/plain": [
       "(2434522, 10)"
      ]
     },
     "execution_count": 58,
     "metadata": {},
     "output_type": "execute_result"
    }
   ],
   "source": [
    "set_vals.shape"
   ]
  },
  {
   "cell_type": "code",
   "execution_count": 59,
   "id": "3a0e433e",
   "metadata": {},
   "outputs": [
    {
     "data": {
      "text/plain": [
       "(2434522, 34)"
      ]
     },
     "execution_count": 59,
     "metadata": {},
     "output_type": "execute_result"
    }
   ],
   "source": [
    "df.shape"
   ]
  },
  {
   "cell_type": "code",
   "execution_count": 60,
   "id": "c2e3185d",
   "metadata": {},
   "outputs": [
    {
     "data": {
      "text/plain": [
       "(2434522, 1)"
      ]
     },
     "execution_count": 60,
     "metadata": {},
     "output_type": "execute_result"
    }
   ],
   "source": [
    "nums = df[['Length_of_Stay']]\n",
    "nums.shape\n",
    "# ((2434522,1))"
   ]
  },
  {
   "cell_type": "code",
   "execution_count": 61,
   "id": "3f0a7e3d",
   "metadata": {},
   "outputs": [
    {
     "data": {
      "text/plain": [
       "(2434522, 78)"
      ]
     },
     "execution_count": 61,
     "metadata": {},
     "output_type": "execute_result"
    }
   ],
   "source": [
    "cat_vals.shape"
   ]
  },
  {
   "cell_type": "code",
   "execution_count": 62,
   "id": "33b97ad3",
   "metadata": {},
   "outputs": [
    {
     "name": "stdout",
     "output_type": "stream",
     "text": [
      "(2434522, 88)\n"
     ]
    }
   ],
   "source": [
    "x = np.concatenate( (set_vals, cat_vals), axis = 1 )\n",
    "# x = np.concatenate((nums, x), axis = 1)\n",
    "print(x.shape)"
   ]
  },
  {
   "cell_type": "markdown",
   "id": "7f697e05",
   "metadata": {},
   "source": [
    "**Preliminary Analyses**<br>\n",
    "the following section should be the prelimary analysis"
   ]
  },
  {
   "cell_type": "markdown",
   "id": "54b0b9f6",
   "metadata": {},
   "source": [
    "**Train / Test Split**<br>\n",
    "To make the 80 / 20 train test split, we shuffle the data and select the first 80% as the train data, with 20% held out for validation."
   ]
  },
  {
   "cell_type": "code",
   "execution_count": 73,
   "id": "ad139467",
   "metadata": {},
   "outputs": [
    {
     "name": "stdout",
     "output_type": "stream",
     "text": [
      "Size of dataset:  2434522\n"
     ]
    }
   ],
   "source": [
    "train_proportion = 0.8\n",
    "n = len(x)\n",
    "print('Size of dataset: ', str(n))\n",
    "\n",
    "# Put the first ntrain observations in the DataFrame df into the training set, and the rest into the test set\n",
    "t = int(train_proportion * n)\n",
    "target = df[['Total_Costs']]\n",
    "# the following variable records the features of examples in the training set\n",
    "train_x = x[: t+1]\n",
    "# the following variable records the features of examples in the test set\n",
    "test_x = x[t+1 :]\n",
    "# the following variable records the labels of examples in the training set\n",
    "train_y = target[: t+1]\n",
    "#print(train_y.shape)\n",
    "# the following variable records the labels of examples in the test set\n",
    "test_y = target[t+1 :]"
   ]
  },
  {
   "cell_type": "code",
   "execution_count": 83,
   "id": "204fb673",
   "metadata": {},
   "outputs": [
    {
     "name": "stdout",
     "output_type": "stream",
     "text": [
      "(1947618, 88) (486904, 88)\n",
      "(1947618, 1) (486904, 1)\n"
     ]
    }
   ],
   "source": [
    "print(train_x.shape, test_x.shape)\n",
    "print(train_y.shape, test_y.shape)"
   ]
  },
  {
   "cell_type": "code",
   "execution_count": 132,
   "id": "eb6279ab",
   "metadata": {},
   "outputs": [],
   "source": [
    "data_sampling_ratio = 0.01\n",
    "rand.seed(5741)\n",
    "rows_to_sample = int(round(data_sampling_ratio * train_x.shape[0]))\n",
    "idx_rows_to_sample = rand.sample(list(range(len(train_x))), rows_to_sample)\n",
    "\n",
    "train_x_small = train_x[idx_rows_to_sample, :]\n",
    "train_y_small = train_y.iloc[idx_rows_to_sample, :]"
   ]
  },
  {
   "cell_type": "code",
   "execution_count": 133,
   "id": "f454d689",
   "metadata": {},
   "outputs": [],
   "source": [
    "data_sampling_ratio = 0.01\n",
    "rows_to_sample = int(round(data_sampling_ratio * test_x.shape[0]))\n",
    "idx_rows_to_sample = rand.sample(list(range(len(test_x))), rows_to_sample)\n",
    "\n",
    "test_x_small = test_x[idx_rows_to_sample, :]\n",
    "test_y_small = test_y.iloc[idx_rows_to_sample, :]"
   ]
  },
  {
   "cell_type": "code",
   "execution_count": 134,
   "id": "d8a40226",
   "metadata": {},
   "outputs": [
    {
     "name": "stdout",
     "output_type": "stream",
     "text": [
      "(19476, 88) (4869, 88)\n",
      "(19476, 1) (4869, 1)\n"
     ]
    }
   ],
   "source": [
    "print(train_x_small.shape, test_x_small.shape)\n",
    "print(train_y_small.shape, test_y_small.shape)"
   ]
  },
  {
   "cell_type": "code",
   "execution_count": 135,
   "id": "11a38f7a",
   "metadata": {},
   "outputs": [],
   "source": [
    "# This function just computes the mean squared error\n",
    "def MSE(y, pred):\n",
    "    difference_array = np.subtract(y, pred)\n",
    "    squared_array = np.square(difference_array)\n",
    "    return squared_array.mean() \n",
    "\n",
    "# This function plots the main diagonal;for a \"predicted vs true\" plot with perfect predictions, all data lies on this line\n",
    "def plotDiagonal(xmin, xmax):\n",
    "    xsamples = np.arange(xmin,xmax,step=0.01)\n",
    "    plt.plot(xsamples,xsamples,c='black')\n",
    "\n",
    "# This helper function plots x vs y and labels the axes\n",
    "def plotdata(x=None,y=None,xname=None,yname=None,margin=0.05,plotDiag=True,zeromin=False):\n",
    "    plt.scatter(x,y,label='data')\n",
    "    plt.xlabel(xname)\n",
    "    plt.ylabel(yname)\n",
    "    range_x = max(x) - min(x)\n",
    "    range_y = max(y) - min(y)\n",
    "    if plotDiag:\n",
    "        plotDiagonal(min(x)-margin*range_x,max(x)+margin*range_x)\n",
    "    if zeromin:\n",
    "        plt.xlim(0.0,max(x)+margin*range_x)\n",
    "        plt.ylim(0.0,max(y)+margin*range_y)\n",
    "    else:\n",
    "        plt.xlim(min(x)-margin*range_x,max(x)+margin*range_x)\n",
    "        plt.ylim(min(y)-margin*range_y,max(y)+margin*range_y)\n",
    "    plt.show()\n",
    "\n",
    "# This function plots the predicted labels vs the actual labels (We only plot the first 1000 points to avoid slow plots)\n",
    "def plot_pred_true(test_pred=None, test_y=None, max_points = 1000):\n",
    "    plotdata(test_pred[1:max_points], test_y[1:max_points],'Predicted', 'True', zeromin=True)"
   ]
  },
  {
   "cell_type": "code",
   "execution_count": 136,
   "id": "7dc83286",
   "metadata": {},
   "outputs": [],
   "source": [
    "# This function runs OLS and bypasses any SVD (Singular Value Decomposition) convergence errors by refitting the model\n",
    "def run_OLS(train_y, test_y, train_vals, test_vals):\n",
    "    ols_model = sm.regression.linear_model.OLS(train_y, train_vals)\n",
    "    while True: # Bypasses SVD convergence assertion error\n",
    "        try:\n",
    "            results = ols_model.fit()\n",
    "            break\n",
    "        except:\n",
    "            None\n",
    "            \n",
    "    w = np.array(results.params).reshape([len(results.params),1])\n",
    "    # print('w: ', w)\n",
    "\n",
    "    train_pred = np.matmul(train_vals,w)\n",
    "    test_pred = np.matmul(test_vals,w)\n",
    "\n",
    "    train_MSE = MSE(train_y, train_pred.flatten())\n",
    "    test_MSE = MSE(test_y, test_pred.flatten())\n",
    "    \n",
    "    return train_MSE, test_MSE, test_pred"
   ]
  },
  {
   "cell_type": "code",
   "execution_count": 137,
   "id": "c20d20ce",
   "metadata": {},
   "outputs": [],
   "source": [
    "train_y1_small = np.asarray(train_y_small)\n",
    "test_y1_small = np.asarray(test_y_small)\n",
    "train_x1_small = np.asarray(train_x_small)\n",
    "test_x1_small = np.asarray(test_x_small)"
   ]
  },
  {
   "cell_type": "code",
   "execution_count": 138,
   "id": "5c5dd5ed",
   "metadata": {
    "scrolled": true
   },
   "outputs": [],
   "source": [
    "train_MSE, test_MSE, test_pred = run_OLS(train_y1_small, test_y1_small, train_x1_small, test_x1_small )"
   ]
  },
  {
   "cell_type": "code",
   "execution_count": 139,
   "id": "e37ba511",
   "metadata": {
    "scrolled": true
   },
   "outputs": [
    {
     "name": "stdout",
     "output_type": "stream",
     "text": [
      "Train MSE\t 506869116.1526903\n",
      "Test MSE\t 350278360.8412199\n"
     ]
    },
    {
     "data": {
      "image/png": "[encoded data removed]",
      "text/plain": [
       "<Figure size 432x288 with 1 Axes>"
      ]
     },
     "metadata": {
      "needs_background": "light"
     },
     "output_type": "display_data"
    }
   ],
   "source": [
    "print(\"Train MSE\\t\", str(train_MSE))\n",
    "print(\"Test MSE\\t\", str(test_MSE))\n",
    "\n",
    "plot_pred_true(test_pred.flatten(), test_y1_small)"
   ]
  },
  {
   "cell_type": "code",
   "execution_count": 148,
   "id": "df721414",
   "metadata": {},
   "outputs": [],
   "source": [
    "offset = np.ones(len(set_vals))\n",
    "x = np.concatenate((set_vals, offset.reshape(len(set_vals),1)), axis=1)"
   ]
  },
  {
   "cell_type": "code",
   "execution_count": 149,
   "id": "4844ffc7",
   "metadata": {},
   "outputs": [
    {
     "name": "stdout",
     "output_type": "stream",
     "text": [
      "Size of dataset:  2434522\n",
      "(19476, 11) (4869, 11)\n",
      "(19476, 1) (4869, 1)\n",
      "Train MSE\t 444670594.5644545\n",
      "Test MSE\t 284342225.4018119\n"
     ]
    },
    {
     "data": {
      "image/png": "[encoded data removed]",
      "text/plain": [
       "<Figure size 432x288 with 1 Axes>"
      ]
     },
     "metadata": {
      "needs_background": "light"
     },
     "output_type": "display_data"
    }
   ],
   "source": [
    "train_proportion = 0.8\n",
    "n = len(x)\n",
    "print('Size of dataset: ', str(n))\n",
    "\n",
    "# Put the first ntrain observations in the DataFrame df into the training set, and the rest into the test set\n",
    "t = int(train_proportion * n)\n",
    "target = df[['Total_Costs']]\n",
    "# the following variable records the features of examples in the training set\n",
    "train_x = x[: t+1]\n",
    "# the following variable records the features of examples in the test set\n",
    "test_x = x[t+1 :]\n",
    "# the following variable records the labels of examples in the training set\n",
    "train_y = target[: t+1]\n",
    "#print(train_y.shape)\n",
    "# the following variable records the labels of examples in the test set\n",
    "test_y = target[t+1 :]\n",
    "\n",
    "\n",
    "data_sampling_ratio = 0.01\n",
    "rand.seed(5741)\n",
    "rows_to_sample = int(round(data_sampling_ratio * train_x.shape[0]))\n",
    "idx_rows_to_sample = rand.sample(list(range(len(train_x))), rows_to_sample)\n",
    "\n",
    "train_x_small = train_x[idx_rows_to_sample, :]\n",
    "train_y_small = train_y.iloc[idx_rows_to_sample, :]\n",
    "\n",
    "data_sampling_ratio = 0.01\n",
    "rows_to_sample = int(round(data_sampling_ratio * test_x.shape[0]))\n",
    "idx_rows_to_sample = rand.sample(list(range(len(test_x))), rows_to_sample)\n",
    "\n",
    "test_x_small = test_x[idx_rows_to_sample, :]\n",
    "test_y_small = test_y.iloc[idx_rows_to_sample, :]\n",
    "\n",
    "print(train_x_small.shape, test_x_small.shape)\n",
    "print(train_y_small.shape, test_y_small.shape)\n",
    "\n",
    "\n",
    "train_y1_small = np.asarray(train_y_small)\n",
    "test_y1_small = np.asarray(test_y_small)\n",
    "train_x1_small = np.asarray(train_x_small)\n",
    "test_x1_small = np.asarray(test_x_small)\n",
    "\n",
    "\n",
    "train_MSE, test_MSE, test_pred = run_OLS(train_y1_small, test_y1_small, train_x1_small, test_x1_small )\n",
    "\n",
    "\n",
    "print(\"Train MSE\\t\", str(train_MSE))\n",
    "print(\"Test MSE\\t\", str(test_MSE))\n",
    "\n",
    "plot_pred_true(test_pred.flatten(), test_y1_small)"
   ]
  },
  {
   "cell_type": "code",
   "execution_count": 152,
   "id": "1c54ff06",
   "metadata": {},
   "outputs": [],
   "source": [
    "offset = np.ones(len(cat_vals))\n",
    "x = np.concatenate((cat_vals, offset.reshape(len(cat_vals),1)), axis=1)"
   ]
  },
  {
   "cell_type": "code",
   "execution_count": 153,
   "id": "ea65c187",
   "metadata": {},
   "outputs": [
    {
     "name": "stdout",
     "output_type": "stream",
     "text": [
      "Size of dataset:  2434522\n",
      "(19476, 79) (4869, 79)\n",
      "(19476, 1) (4869, 1)\n",
      "Train MSE\t 506420295.00808656\n",
      "Test MSE\t 349837619.67629105\n"
     ]
    },
    {
     "data": {
      "image/png": "[encoded data removed]",
      "text/plain": [
       "<Figure size 432x288 with 1 Axes>"
      ]
     },
     "metadata": {
      "needs_background": "light"
     },
     "output_type": "display_data"
    }
   ],
   "source": [
    "train_proportion = 0.8\n",
    "n = len(x)\n",
    "print('Size of dataset: ', str(n))\n",
    "\n",
    "# Put the first ntrain observations in the DataFrame df into the training set, and the rest into the test set\n",
    "t = int(train_proportion * n)\n",
    "target = df[['Total_Costs']]\n",
    "# the following variable records the features of examples in the training set\n",
    "train_x = x[: t+1]\n",
    "# the following variable records the features of examples in the test set\n",
    "test_x = x[t+1 :]\n",
    "# the following variable records the labels of examples in the training set\n",
    "train_y = target[: t+1]\n",
    "#print(train_y.shape)\n",
    "# the following variable records the labels of examples in the test set\n",
    "test_y = target[t+1 :]\n",
    "\n",
    "\n",
    "data_sampling_ratio = 0.01\n",
    "rand.seed(5741)\n",
    "rows_to_sample = int(round(data_sampling_ratio * train_x.shape[0]))\n",
    "idx_rows_to_sample = rand.sample(list(range(len(train_x))), rows_to_sample)\n",
    "\n",
    "train_x_small = train_x[idx_rows_to_sample, :]\n",
    "train_y_small = train_y.iloc[idx_rows_to_sample, :]\n",
    "\n",
    "data_sampling_ratio = 0.01\n",
    "rows_to_sample = int(round(data_sampling_ratio * test_x.shape[0]))\n",
    "idx_rows_to_sample = rand.sample(list(range(len(test_x))), rows_to_sample)\n",
    "\n",
    "test_x_small = test_x[idx_rows_to_sample, :]\n",
    "test_y_small = test_y.iloc[idx_rows_to_sample, :]\n",
    "\n",
    "print(train_x_small.shape, test_x_small.shape)\n",
    "print(train_y_small.shape, test_y_small.shape)\n",
    "\n",
    "\n",
    "train_y1_small = np.asarray(train_y_small)\n",
    "test_y1_small = np.asarray(test_y_small)\n",
    "train_x1_small = np.asarray(train_x_small)\n",
    "test_x1_small = np.asarray(test_x_small)\n",
    "\n",
    "\n",
    "train_MSE, test_MSE, test_pred = run_OLS(train_y1_small, test_y1_small, train_x1_small, test_x1_small )\n",
    "\n",
    "\n",
    "print(\"Train MSE\\t\", str(train_MSE))\n",
    "print(\"Test MSE\\t\", str(test_MSE))\n",
    "\n",
    "plot_pred_true(test_pred.flatten(), test_y1_small)"
   ]
  },
  {
   "cell_type": "code",
   "execution_count": 154,
   "id": "9b532f68",
   "metadata": {},
   "outputs": [],
   "source": [
    "offset = np.ones(len(nums))\n",
    "x = np.concatenate((nums, offset.reshape(len(nums),1)), axis=1)"
   ]
  },
  {
   "cell_type": "code",
   "execution_count": 155,
   "id": "03dadf92",
   "metadata": {},
   "outputs": [
    {
     "name": "stdout",
     "output_type": "stream",
     "text": [
      "Size of dataset:  2434522\n",
      "(19476, 2) (4869, 2)\n",
      "(19476, 1) (4869, 1)\n",
      "Train MSE\t 682345093.040098\n",
      "Test MSE\t 482865918.36303514\n"
     ]
    },
    {
     "data": {
      "image/png": "[encoded data removed]",
      "text/plain": [
       "<Figure size 432x288 with 1 Axes>"
      ]
     },
     "metadata": {
      "needs_background": "light"
     },
     "output_type": "display_data"
    }
   ],
   "source": [
    "train_proportion = 0.8\n",
    "n = len(x)\n",
    "print('Size of dataset: ', str(n))\n",
    "\n",
    "# Put the first ntrain observations in the DataFrame df into the training set, and the rest into the test set\n",
    "t = int(train_proportion * n)\n",
    "target = df[['Total_Costs']]\n",
    "# the following variable records the features of examples in the training set\n",
    "train_x = x[: t+1]\n",
    "# the following variable records the features of examples in the test set\n",
    "test_x = x[t+1 :]\n",
    "# the following variable records the labels of examples in the training set\n",
    "train_y = target[: t+1]\n",
    "#print(train_y.shape)\n",
    "# the following variable records the labels of examples in the test set\n",
    "test_y = target[t+1 :]\n",
    "\n",
    "\n",
    "data_sampling_ratio = 0.01\n",
    "rand.seed(5741)\n",
    "rows_to_sample = int(round(data_sampling_ratio * train_x.shape[0]))\n",
    "idx_rows_to_sample = rand.sample(list(range(len(train_x))), rows_to_sample)\n",
    "\n",
    "train_x_small = train_x[idx_rows_to_sample, :]\n",
    "train_y_small = train_y.iloc[idx_rows_to_sample, :]\n",
    "\n",
    "data_sampling_ratio = 0.01\n",
    "rows_to_sample = int(round(data_sampling_ratio * test_x.shape[0]))\n",
    "idx_rows_to_sample = rand.sample(list(range(len(test_x))), rows_to_sample)\n",
    "\n",
    "test_x_small = test_x[idx_rows_to_sample, :]\n",
    "test_y_small = test_y.iloc[idx_rows_to_sample, :]\n",
    "\n",
    "print(train_x_small.shape, test_x_small.shape)\n",
    "print(train_y_small.shape, test_y_small.shape)\n",
    "\n",
    "\n",
    "train_y1_small = np.asarray(train_y_small)\n",
    "test_y1_small = np.asarray(test_y_small)\n",
    "train_x1_small = np.asarray(train_x_small)\n",
    "test_x1_small = np.asarray(test_x_small)\n",
    "\n",
    "\n",
    "train_MSE, test_MSE, test_pred = run_OLS(train_y1_small, test_y1_small, train_x1_small, test_x1_small )\n",
    "\n",
    "\n",
    "print(\"Train MSE\\t\", str(train_MSE))\n",
    "print(\"Test MSE\\t\", str(test_MSE))\n",
    "\n",
    "plot_pred_true(test_pred.flatten(), test_y1_small)"
   ]
  },
  {
   "cell_type": "code",
   "execution_count": 156,
   "id": "c9bac288",
   "metadata": {},
   "outputs": [],
   "source": [
    "offset = np.ones(len(cat_vals))\n",
    "x = np.concatenate((cat_vals, \n",
    "                    cat_vals,\n",
    "                    nums,\n",
    "                    offset.reshape(len(cat_vals),1)), axis=1)"
   ]
  },
  {
   "cell_type": "code",
   "execution_count": 158,
   "id": "e09537bf",
   "metadata": {},
   "outputs": [
    {
     "name": "stdout",
     "output_type": "stream",
     "text": [
      "Size of dataset:  2434522\n",
      "(19476, 158) (4869, 158)\n",
      "(19476, 1) (4869, 1)\n",
      "Train MSE\t 692740834.0516478\n",
      "Test MSE\t 494320350.88283265\n"
     ]
    },
    {
     "data": {
      "image/png": "[encoded data removed]",
      "text/plain": [
       "<Figure size 432x288 with 1 Axes>"
      ]
     },
     "metadata": {
      "needs_background": "light"
     },
     "output_type": "display_data"
    }
   ],
   "source": [
    "train_proportion = 0.8\n",
    "n = len(x)\n",
    "print('Size of dataset: ', str(n))\n",
    "\n",
    "# Put the first ntrain observations in the DataFrame df into the training set, and the rest into the test set\n",
    "t = int(train_proportion * n)\n",
    "target = df[['Total_Costs']]\n",
    "# the following variable records the features of examples in the training set\n",
    "train_x = x[: t+1]\n",
    "# the following variable records the features of examples in the test set\n",
    "test_x = x[t+1 :]\n",
    "# the following variable records the labels of examples in the training set\n",
    "train_y = target[: t+1]\n",
    "#print(train_y.shape)\n",
    "# the following variable records the labels of examples in the test set\n",
    "test_y = target[t+1 :]\n",
    "\n",
    "\n",
    "data_sampling_ratio = 0.01\n",
    "rand.seed(5741)\n",
    "rows_to_sample = int(round(data_sampling_ratio * train_x.shape[0]))\n",
    "idx_rows_to_sample = rand.sample(list(range(len(train_x))), rows_to_sample)\n",
    "\n",
    "train_x_small = train_x[idx_rows_to_sample, :]\n",
    "train_y_small = train_y.iloc[idx_rows_to_sample, :]\n",
    "\n",
    "data_sampling_ratio = 0.01\n",
    "rows_to_sample = int(round(data_sampling_ratio * test_x.shape[0]))\n",
    "idx_rows_to_sample = rand.sample(list(range(len(test_x))), rows_to_sample)\n",
    "\n",
    "test_x_small = test_x[idx_rows_to_sample, :]\n",
    "test_y_small = test_y.iloc[idx_rows_to_sample, :]\n",
    "\n",
    "print(train_x_small.shape, test_x_small.shape)\n",
    "print(train_y_small.shape, test_y_small.shape)\n",
    "\n",
    "\n",
    "train_y1_small = np.asarray(train_y_small)\n",
    "test_y1_small = np.asarray(test_y_small)\n",
    "train_x1_small = np.asarray(train_x_small)\n",
    "test_x1_small = np.asarray(test_x_small)\n",
    "\n",
    "\n",
    "train_MSE, test_MSE, test_pred = run_OLS(train_y1_small, test_y1_small, train_x1_small, test_x1_small )\n",
    "\n",
    "\n",
    "print(\"Train MSE\\t\", str(train_MSE))\n",
    "print(\"Test MSE\\t\", str(test_MSE))\n",
    "\n",
    "plot_pred_true(test_pred.flatten(), test_y1_small)"
   ]
  }
 ],
 "metadata": {
  "@webio": {
   "lastCommId": null,
   "lastKernelId": null
  },
  "kernelspec": {
   "display_name": "Python 3",
   "language": "python",
   "name": "python3"
  },
  "language_info": {
   "codemirror_mode": {
    "name": "ipython",
    "version": 3
   },
   "file_extension": ".py",
   "mimetype": "text/x-python",
   "name": "python",
   "nbconvert_exporter": "python",
   "pygments_lexer": "ipython3",
   "version": "3.8.8"
  }
 },
 "nbformat": 4,
 "nbformat_minor": 5
}
